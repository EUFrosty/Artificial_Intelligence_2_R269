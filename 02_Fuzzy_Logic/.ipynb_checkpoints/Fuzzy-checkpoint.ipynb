{
 "cells": [
  {
   "cell_type": "code",
   "execution_count": 8,
   "id": "b9e46f5b-d6c1-4eec-94ab-6e6f19e034e8",
   "metadata": {},
   "outputs": [],
   "source": [
    "class FuzzyInput():\n",
    "    def __init__(self, name, xs, ys, x0):\n",
    "        self.name = name\n",
    "        self.xs = xs\n",
    "        self.ys = ys\n",
    "        self.mu = self.calcMu(x0)\n",
    "\n",
    "    def calcMu(self, x0):\n",
    "        if x0 <= self.xs[0]:\n",
    "            return self.ys[0]\n",
    "        elif x0 >= self.xs[-1]:\n",
    "            return self.ys[-1]\n",
    "        for i in range(len(self.xs)-1):\n",
    "            x1 = self.xs[i]\n",
    "            x2 = self.xs[i+1]\n",
    "            if x1 <= x0 and x0 < x2:\n",
    "                y1 = self.ys[i]\n",
    "                y2 = self.ys[i+1]\n",
    "                if y1 == y2:\n",
    "                    return y2\n",
    "                elif y1 < y2:\n",
    "                    return (x0 - x1) / (x2 - x1)\n",
    "                elif y1 > y2:\n",
    "                    return (x2 - x0) / (x2 - x1)"
   ]
  },
  {
   "cell_type": "code",
   "execution_count": 9,
   "id": "b04886b4-1f04-41fa-b521-1c1940a8c83b",
   "metadata": {},
   "outputs": [],
   "source": [
    "x = FuzzyInput('mala', [3,10], [1,0], 9)"
   ]
  },
  {
   "cell_type": "code",
   "execution_count": 10,
   "id": "3bbd51f9-5afb-4c12-96ca-fa2d4cd41aaf",
   "metadata": {},
   "outputs": [
    {
     "data": {
      "text/plain": [
       "0.14285714285714285"
      ]
     },
     "execution_count": 10,
     "metadata": {},
     "output_type": "execute_result"
    }
   ],
   "source": [
    "x.mu"
   ]
  },
  {
   "cell_type": "code",
   "execution_count": 14,
   "id": "ed3e04ab-b517-4459-b005-a3d205593549",
   "metadata": {},
   "outputs": [],
   "source": [
    "class FuzzyOutput():\n",
    "    def __init__(self, name, xs, ys):\n",
    "        self.name = name\n",
    "        self.xs = xs\n",
    "        self.ys = ys\n",
    "        self.mu = 0\n",
    "        \n",
    "        self.c = 0\n",
    "    \n",
    "        n = 0\n",
    "        for x, y in zip(xs, ys):\n",
    "            if y == 1:\n",
    "                self.c += x\n",
    "                n += 1\n",
    "        self.c /= n\n",
    "        "
   ]
  },
  {
   "cell_type": "code",
   "execution_count": 17,
   "id": "8ca66e98-4f5f-45e2-949b-3124f4a6afa2",
   "metadata": {},
   "outputs": [],
   "source": [
    "from enum import Enum, unique\n",
    "\n",
    "@unique\n",
    "class LogicOp(Enum):\n",
    "    AND = 0\n",
    "    OR = 1"
   ]
  },
  {
   "cell_type": "code",
   "execution_count": 21,
   "id": "e6c23e8d-a2da-4feb-8be3-cae6d6d9632e",
   "metadata": {},
   "outputs": [],
   "source": [
    "class Rule():\n",
    "    def __init__(self, input1, input2, output, operator):\n",
    "        self.input1 = input1\n",
    "        self.input2 = input2\n",
    "        self.output = output\n",
    "        \n",
    "        if operator == LogicOp.AND:\n",
    "            self.output.mu = max(self.output.mu, min(input1.mu, input2.mu))\n",
    "        else:\n",
    "            self.output.mu = max(self.output.mu, max(input1.mu, input2.mu))"
   ]
  },
  {
   "cell_type": "code",
   "execution_count": 22,
   "id": "418b0c92-e565-4926-989b-fa72658efc12",
   "metadata": {},
   "outputs": [],
   "source": [
    "class FuzzyOutput:\n",
    "    def __init__(self, name, xs, ys):\n",
    "        self.name = name\n",
    "        self.xs = xs\n",
    "        self.ys = ys\n",
    "        self.mu = 0\n",
    "        self.c = 0\n",
    "        n = 0\n",
    "        for x, y in zip(xs, ys):\n",
    "            if y == 1:\n",
    "                self.c += x\n",
    "                n += 1\n",
    "        self.c /= n\n",
    "        "
   ]
  },
  {
   "cell_type": "code",
   "execution_count": 23,
   "id": "b268ddeb-a068-4eaf-b7f3-83494d94c673",
   "metadata": {},
   "outputs": [
    {
     "data": {
      "text/plain": [
       "7.0"
      ]
     },
     "execution_count": 23,
     "metadata": {},
     "output_type": "execute_result"
    }
   ],
   "source": [
    "x = FuzzyOutput('iz', [7,15], [1,0])\n",
    "x.c"
   ]
  },
  {
   "cell_type": "code",
   "execution_count": 27,
   "id": "ba1841e3-1e2a-404c-a90a-8b0b5d05cbb2",
   "metadata": {},
   "outputs": [
    {
     "data": {
      "text/plain": [
       "25.26315789473684"
      ]
     },
     "execution_count": 27,
     "metadata": {},
     "output_type": "execute_result"
    }
   ],
   "source": [
    "potrosnja = []\n",
    "potrosnja.append(FuzzyInput('mala', [3,10],[1,0],9))\n",
    "potrosnja.append(FuzzyInput('srednja', [7,10],[0,1,1,0],9))\n",
    "potrosnja.append(FuzzyInput('velika', [12,15],[0,1],9))\n",
    "\n",
    "pouzdanost = []\n",
    "pouzdanost.append(FuzzyInput('visoka', [5,10],[1,0], 8))\n",
    "pouzdanost.append(FuzzyInput('niska', [8,15],[0,1], 8))\n",
    "\n",
    "vrednost = []\n",
    "vrednost.append(FuzzyOutput('mala', [7,15], [1,0]))\n",
    "vrednost.append(FuzzyOutput('srednja', [7,15,25,40], [0,1,1,0]))\n",
    "vrednost.append(FuzzyOutput('velika', [25,40], [0,1]))\n",
    "\n",
    "rules = []\n",
    "rules.append(Rule(potrosnja[0], pouzdanost[0], vrednost[2], LogicOp.AND))\n",
    "rules.append(Rule(potrosnja[0], pouzdanost[1], vrednost[1], LogicOp.AND))\n",
    "rules.append(Rule(potrosnja[1], pouzdanost[0], vrednost[1], LogicOp.AND))\n",
    "rules.append(Rule(potrosnja[1], pouzdanost[1], vrednost[1], LogicOp.AND))\n",
    "rules.append(Rule(potrosnja[2], pouzdanost[0], vrednost[1], LogicOp.AND))\n",
    "rules.append(Rule(potrosnja[2], pouzdanost[1], vrednost[0], LogicOp.AND))\n",
    "\n",
    "iznad = 0\n",
    "ispod = 0\n",
    "for v in vrednost:\n",
    "    iznad += v.c * v.mu\n",
    "    ispod += v.mu\n",
    "iznad/ispod\n",
    "\n",
    "#for v in vrednost:\n",
    "#    print(v.mu)"
   ]
  },
  {
   "cell_type": "code",
   "execution_count": null,
   "id": "9410ade1-8534-42a4-940e-129ac61ec06a",
   "metadata": {},
   "outputs": [],
   "source": []
  }
 ],
 "metadata": {
  "kernelspec": {
   "display_name": "Python 3 (ipykernel)",
   "language": "python",
   "name": "python3"
  },
  "language_info": {
   "codemirror_mode": {
    "name": "ipython",
    "version": 3
   },
   "file_extension": ".py",
   "mimetype": "text/x-python",
   "name": "python",
   "nbconvert_exporter": "python",
   "pygments_lexer": "ipython3",
   "version": "3.10.12"
  }
 },
 "nbformat": 4,
 "nbformat_minor": 5
}
